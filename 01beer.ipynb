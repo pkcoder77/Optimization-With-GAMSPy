{
 "cells": [
  {
   "cell_type": "markdown",
   "id": "b4f14975",
   "metadata": {},
   "source": [
    "# Beer Production Optimization with GAMSpy\n",
    "\n",
    "This notebook solves a simple linear programming problem using `GAMSpy`. The goal is to find the optimal amount of barley and hops to purchase in order to maximize beer production.\n",
    "\n",
    "### Problem\n",
    "\n",
    "Two different ingredients\n",
    "* **Barley** (var `x`), yields a profit of **$0.40** \n",
    "* **Hops** (var `y`), yields a profit of **$0.9**\n",
    "\n",
    "These are the constraints:\n",
    "1. The brewery can produce a **max of 2 pounds** of hops\n",
    "2. The amount of barley produced can't exceed **8 times the amount of hops**\n",
    "\n",
    "**Objective:** Find the production quantity of the two ingredients that will yield the most profits\n"
   ]
  },
  {
   "cell_type": "code",
   "execution_count": null,
   "id": "6d35d590",
   "metadata": {},
   "outputs": [],
   "source": [
    "import gamspy as gp"
   ]
  },
  {
   "cell_type": "markdown",
   "id": "d471a716",
   "metadata": {},
   "source": [
    "## Step 1. Setting up the Model\n",
    "\n",
    "The first step is to define a GAMSpy container that will hold all the variables, equations, and the model. The variables that represent the decisions are then made"
   ]
  },
  {
   "cell_type": "code",
   "execution_count": null,
   "id": "96f0b63e-9d7d-40bd-8815-e65275497b16",
   "metadata": {},
   "outputs": [],
   "source": [
    "m = gp.Container()\n",
    "\n",
    "# Defining the variables (positive because you can't produce a negative amount)\n",
    "x = gp.Variable(m, 'x', 'positive')\n",
    "y = gp.Variable(m, 'y', 'positive')\n",
    "# Profit can be any number\n",
    "z = gp.Variable(m, 'z', 'free')"
   ]
  },
  {
   "cell_type": "markdown",
   "id": "fb3ce28e",
   "metadata": {},
   "source": [
    "### Define the Equations (Constraints and Objective)\n",
    "\n",
    "Now it's time to translate the constraints and profit calculations int mathmatical equations to be used by GAMSpy"
   ]
  },
  {
   "cell_type": "code",
   "execution_count": null,
   "id": "ae4bb2e5",
   "metadata": {},
   "outputs": [],
   "source": [
    "# Constraint 1: Hops production can't be greater than 2\n",
    "c1 = gp.Equation(m, 'cons1')\n",
    "c1[:] = y <= 2\n",
    "\n",
    "# Constraint 2: Barley production can't be greater than 8 times of hops production\n",
    "c2 = gp.Equation(m, 'cons2')\n",
    "c2[:] = x <= 8*y\n",
    "\n",
    "# Objective: This is what defines the total profits\n",
    "obj = gp.Equation(m, 'defobj')\n",
    "obj[:] = z == 0.4*x + 0.9*y"
   ]
  },
  {
   "cell_type": "markdown",
   "id": "80302efe",
   "metadata": {},
   "source": [
    "## Step 2. Solving the Optimization Model\n",
    "\n",
    "We can now use all of the variables to create the model. The goal is to **maximize** the profit (`z`) considering this is a linear programming problem "
   ]
  },
  {
   "cell_type": "code",
   "execution_count": 4,
   "id": "785030e0",
   "metadata": {},
   "outputs": [
    {
     "data": {
      "text/html": [
       "<div>\n",
       "<style scoped>\n",
       "    .dataframe tbody tr th:only-of-type {\n",
       "        vertical-align: middle;\n",
       "    }\n",
       "\n",
       "    .dataframe tbody tr th {\n",
       "        vertical-align: top;\n",
       "    }\n",
       "\n",
       "    .dataframe thead th {\n",
       "        text-align: right;\n",
       "    }\n",
       "</style>\n",
       "<table border=\"1\" class=\"dataframe\">\n",
       "  <thead>\n",
       "    <tr style=\"text-align: right;\">\n",
       "      <th></th>\n",
       "      <th>Solver Status</th>\n",
       "      <th>Model Status</th>\n",
       "      <th>Objective</th>\n",
       "      <th>Num of Equations</th>\n",
       "      <th>Num of Variables</th>\n",
       "      <th>Model Type</th>\n",
       "      <th>Solver</th>\n",
       "      <th>Solver Time</th>\n",
       "    </tr>\n",
       "  </thead>\n",
       "  <tbody>\n",
       "    <tr>\n",
       "      <th>0</th>\n",
       "      <td>Normal</td>\n",
       "      <td>OptimalGlobal</td>\n",
       "      <td>8.2</td>\n",
       "      <td>3</td>\n",
       "      <td>3</td>\n",
       "      <td>LP</td>\n",
       "      <td>CPLEX</td>\n",
       "      <td>0.0</td>\n",
       "    </tr>\n",
       "  </tbody>\n",
       "</table>\n",
       "</div>"
      ],
      "text/plain": [
       "  Solver Status   Model Status  Objective  Num of Equations  Num of Variables  \\\n",
       "0        Normal  OptimalGlobal        8.2                 3                 3   \n",
       "\n",
       "  Model Type Solver  Solver Time  \n",
       "0         LP  CPLEX          0.0  "
      ]
     },
     "execution_count": 4,
     "metadata": {},
     "output_type": "execute_result"
    }
   ],
   "source": [
    "beer = gp.Model(\n",
    "    m,\n",
    "    name='beer',\n",
    "    equations = [c1,c2,obj],\n",
    "    objective = z,\n",
    "    sense=\"max\",\n",
    "    problem=\"lp\",)\n",
    "\n",
    "beer.solve()"
   ]
  },
  {
   "cell_type": "markdown",
   "id": "48b71fc6",
   "metadata": {},
   "source": [
    "## Step 3. Reviewing the Results\n",
    "\n",
    "Now the model is solved, it's time to inspect the optimal values.\n",
    "\n",
    "**Note:** displaying the variable object like (`x`) will shows its definition, not its solved value. To see the results, you need to use the `.records` attribute of each variable."
   ]
  },
  {
   "cell_type": "code",
   "execution_count": null,
   "id": "b5c6d577-c794-4a44-93f1-c2319866b7dd",
   "metadata": {},
   "outputs": [
    {
     "data": {
      "text/plain": [
       "Variable(name='x', domain=[], type='positive')"
      ]
     },
     "metadata": {},
     "output_type": "display_data"
    },
    {
     "data": {
      "text/plain": [
       "Variable(name='y', domain=[], type='positive')"
      ]
     },
     "metadata": {},
     "output_type": "display_data"
    },
    {
     "data": {
      "text/plain": [
       "Variable(name='z', domain=[], type='free')"
      ]
     },
     "metadata": {},
     "output_type": "display_data"
    }
   ],
   "source": [
    "# Bad\n",
    "display(x,y,z)"
   ]
  },
  {
   "cell_type": "code",
   "execution_count": null,
   "id": "6ad3407a-972f-4aea-a86a-8873d95bba12",
   "metadata": {},
   "outputs": [
    {
     "data": {
      "text/html": [
       "<div>\n",
       "<style scoped>\n",
       "    .dataframe tbody tr th:only-of-type {\n",
       "        vertical-align: middle;\n",
       "    }\n",
       "\n",
       "    .dataframe tbody tr th {\n",
       "        vertical-align: top;\n",
       "    }\n",
       "\n",
       "    .dataframe thead th {\n",
       "        text-align: right;\n",
       "    }\n",
       "</style>\n",
       "<table border=\"1\" class=\"dataframe\">\n",
       "  <thead>\n",
       "    <tr style=\"text-align: right;\">\n",
       "      <th></th>\n",
       "      <th>level</th>\n",
       "      <th>marginal</th>\n",
       "      <th>lower</th>\n",
       "      <th>upper</th>\n",
       "      <th>scale</th>\n",
       "    </tr>\n",
       "  </thead>\n",
       "  <tbody>\n",
       "    <tr>\n",
       "      <th>0</th>\n",
       "      <td>16.0</td>\n",
       "      <td>0.0</td>\n",
       "      <td>0.0</td>\n",
       "      <td>inf</td>\n",
       "      <td>1.0</td>\n",
       "    </tr>\n",
       "  </tbody>\n",
       "</table>\n",
       "</div>"
      ],
      "text/plain": [
       "   level  marginal  lower  upper  scale\n",
       "0   16.0       0.0    0.0    inf    1.0"
      ]
     },
     "metadata": {},
     "output_type": "display_data"
    },
    {
     "data": {
      "text/html": [
       "<div>\n",
       "<style scoped>\n",
       "    .dataframe tbody tr th:only-of-type {\n",
       "        vertical-align: middle;\n",
       "    }\n",
       "\n",
       "    .dataframe tbody tr th {\n",
       "        vertical-align: top;\n",
       "    }\n",
       "\n",
       "    .dataframe thead th {\n",
       "        text-align: right;\n",
       "    }\n",
       "</style>\n",
       "<table border=\"1\" class=\"dataframe\">\n",
       "  <thead>\n",
       "    <tr style=\"text-align: right;\">\n",
       "      <th></th>\n",
       "      <th>level</th>\n",
       "      <th>marginal</th>\n",
       "      <th>lower</th>\n",
       "      <th>upper</th>\n",
       "      <th>scale</th>\n",
       "    </tr>\n",
       "  </thead>\n",
       "  <tbody>\n",
       "    <tr>\n",
       "      <th>0</th>\n",
       "      <td>2.0</td>\n",
       "      <td>0.0</td>\n",
       "      <td>0.0</td>\n",
       "      <td>inf</td>\n",
       "      <td>1.0</td>\n",
       "    </tr>\n",
       "  </tbody>\n",
       "</table>\n",
       "</div>"
      ],
      "text/plain": [
       "   level  marginal  lower  upper  scale\n",
       "0    2.0       0.0    0.0    inf    1.0"
      ]
     },
     "metadata": {},
     "output_type": "display_data"
    },
    {
     "data": {
      "text/html": [
       "<div>\n",
       "<style scoped>\n",
       "    .dataframe tbody tr th:only-of-type {\n",
       "        vertical-align: middle;\n",
       "    }\n",
       "\n",
       "    .dataframe tbody tr th {\n",
       "        vertical-align: top;\n",
       "    }\n",
       "\n",
       "    .dataframe thead th {\n",
       "        text-align: right;\n",
       "    }\n",
       "</style>\n",
       "<table border=\"1\" class=\"dataframe\">\n",
       "  <thead>\n",
       "    <tr style=\"text-align: right;\">\n",
       "      <th></th>\n",
       "      <th>level</th>\n",
       "      <th>marginal</th>\n",
       "      <th>lower</th>\n",
       "      <th>upper</th>\n",
       "      <th>scale</th>\n",
       "    </tr>\n",
       "  </thead>\n",
       "  <tbody>\n",
       "    <tr>\n",
       "      <th>0</th>\n",
       "      <td>8.2</td>\n",
       "      <td>0.0</td>\n",
       "      <td>-inf</td>\n",
       "      <td>inf</td>\n",
       "      <td>1.0</td>\n",
       "    </tr>\n",
       "  </tbody>\n",
       "</table>\n",
       "</div>"
      ],
      "text/plain": [
       "   level  marginal  lower  upper  scale\n",
       "0    8.2       0.0   -inf    inf    1.0"
      ]
     },
     "metadata": {},
     "output_type": "display_data"
    }
   ],
   "source": [
    "# Good\n",
    "display(x.records, y.records, z.records)"
   ]
  }
 ],
 "metadata": {
  "kernelspec": {
   "display_name": "gamspy_env",
   "language": "python",
   "name": "python3"
  },
  "language_info": {
   "codemirror_mode": {
    "name": "ipython",
    "version": 3
   },
   "file_extension": ".py",
   "mimetype": "text/x-python",
   "name": "python",
   "nbconvert_exporter": "python",
   "pygments_lexer": "ipython3",
   "version": "3.10.18"
  }
 },
 "nbformat": 4,
 "nbformat_minor": 5
}
