{
 "cells": [
  {
   "cell_type": "code",
   "execution_count": 7,
   "id": "6d35d590",
   "metadata": {},
   "outputs": [
    {
     "ename": "ModuleNotFoundError",
     "evalue": "No module named 'matplotlib'",
     "output_type": "error",
     "traceback": [
      "\u001b[1;31m---------------------------------------------------------------------------\u001b[0m",
      "\u001b[1;31mModuleNotFoundError\u001b[0m                       Traceback (most recent call last)",
      "Cell \u001b[1;32mIn[7], line 2\u001b[0m\n\u001b[0;32m      1\u001b[0m \u001b[38;5;28;01mimport\u001b[39;00m\u001b[38;5;250m \u001b[39m\u001b[38;5;21;01mgamspy\u001b[39;00m\u001b[38;5;250m \u001b[39m\u001b[38;5;28;01mas\u001b[39;00m\u001b[38;5;250m \u001b[39m\u001b[38;5;21;01mgp\u001b[39;00m\n\u001b[1;32m----> 2\u001b[0m \u001b[38;5;28;01mimport\u001b[39;00m\u001b[38;5;250m \u001b[39m\u001b[38;5;21;01mmatplotlib\u001b[39;00m\u001b[38;5;250m \u001b[39m\u001b[38;5;28;01mas\u001b[39;00m\u001b[38;5;250m \u001b[39m\u001b[38;5;21;01mplt\u001b[39;00m\n",
      "\u001b[1;31mModuleNotFoundError\u001b[0m: No module named 'matplotlib'"
     ]
    }
   ],
   "source": [
    "import gamspy as gp\n",
    "import matplotlib as plt"
   ]
  },
  {
   "cell_type": "code",
   "execution_count": 2,
   "id": "96f0b63e-9d7d-40bd-8815-e65275497b16",
   "metadata": {},
   "outputs": [],
   "source": [
    "m = gp.Container()\n",
    "x = gp.Variable(m, 'x', 'positive')\n",
    "y = gp.Variable(m, 'y', 'positive')\n",
    "# free should be default\n",
    "z = gp.Variable(m, 'z', 'free')"
   ]
  },
  {
   "cell_type": "code",
   "execution_count": 3,
   "id": "ae4bb2e5",
   "metadata": {},
   "outputs": [],
   "source": [
    "# Setting up the equations/constraints\n",
    "c1 = gp.Equation(m, 'cons1')\n",
    "c1[:] = y <= 2\n",
    "\n",
    "c2 = gp.Equation(m, 'cons2')\n",
    "c2[:] = x <= 8*y\n",
    "\n",
    "obj = gp.Equation(m, 'defobj')\n",
    "obj[:] = z == 0.4*x + 0.9*y"
   ]
  },
  {
   "cell_type": "code",
   "execution_count": 4,
   "id": "785030e0",
   "metadata": {},
   "outputs": [
    {
     "data": {
      "text/html": [
       "<div>\n",
       "<style scoped>\n",
       "    .dataframe tbody tr th:only-of-type {\n",
       "        vertical-align: middle;\n",
       "    }\n",
       "\n",
       "    .dataframe tbody tr th {\n",
       "        vertical-align: top;\n",
       "    }\n",
       "\n",
       "    .dataframe thead th {\n",
       "        text-align: right;\n",
       "    }\n",
       "</style>\n",
       "<table border=\"1\" class=\"dataframe\">\n",
       "  <thead>\n",
       "    <tr style=\"text-align: right;\">\n",
       "      <th></th>\n",
       "      <th>Solver Status</th>\n",
       "      <th>Model Status</th>\n",
       "      <th>Objective</th>\n",
       "      <th>Num of Equations</th>\n",
       "      <th>Num of Variables</th>\n",
       "      <th>Model Type</th>\n",
       "      <th>Solver</th>\n",
       "      <th>Solver Time</th>\n",
       "    </tr>\n",
       "  </thead>\n",
       "  <tbody>\n",
       "    <tr>\n",
       "      <th>0</th>\n",
       "      <td>Normal</td>\n",
       "      <td>OptimalGlobal</td>\n",
       "      <td>8.2</td>\n",
       "      <td>3</td>\n",
       "      <td>3</td>\n",
       "      <td>LP</td>\n",
       "      <td>CPLEX</td>\n",
       "      <td>0.0</td>\n",
       "    </tr>\n",
       "  </tbody>\n",
       "</table>\n",
       "</div>"
      ],
      "text/plain": [
       "  Solver Status   Model Status  Objective  Num of Equations  Num of Variables  \\\n",
       "0        Normal  OptimalGlobal        8.2                 3                 3   \n",
       "\n",
       "  Model Type Solver  Solver Time  \n",
       "0         LP  CPLEX          0.0  "
      ]
     },
     "execution_count": 4,
     "metadata": {},
     "output_type": "execute_result"
    }
   ],
   "source": [
    "beer = gp.Model(\n",
    "    m,\n",
    "    name='beer',\n",
    "    equations = [c1,c2,obj],\n",
    "    objective = z,\n",
    "    sense=\"max\",\n",
    "    problem=\"lp\",)\n",
    "\n",
    "beer.solve()"
   ]
  },
  {
   "cell_type": "code",
   "execution_count": 5,
   "id": "b5c6d577-c794-4a44-93f1-c2319866b7dd",
   "metadata": {},
   "outputs": [
    {
     "data": {
      "text/plain": [
       "Variable(name='x', domain=[], type='positive')"
      ]
     },
     "metadata": {},
     "output_type": "display_data"
    },
    {
     "data": {
      "text/plain": [
       "Variable(name='y', domain=[], type='positive')"
      ]
     },
     "metadata": {},
     "output_type": "display_data"
    },
    {
     "data": {
      "text/plain": [
       "Variable(name='z', domain=[], type='free')"
      ]
     },
     "metadata": {},
     "output_type": "display_data"
    }
   ],
   "source": [
    "# Notice this didn't come out as expected\n",
    "display(x,y,z)"
   ]
  },
  {
   "cell_type": "code",
   "execution_count": 6,
   "id": "6ad3407a-972f-4aea-a86a-8873d95bba12",
   "metadata": {},
   "outputs": [
    {
     "data": {
      "text/html": [
       "<div>\n",
       "<style scoped>\n",
       "    .dataframe tbody tr th:only-of-type {\n",
       "        vertical-align: middle;\n",
       "    }\n",
       "\n",
       "    .dataframe tbody tr th {\n",
       "        vertical-align: top;\n",
       "    }\n",
       "\n",
       "    .dataframe thead th {\n",
       "        text-align: right;\n",
       "    }\n",
       "</style>\n",
       "<table border=\"1\" class=\"dataframe\">\n",
       "  <thead>\n",
       "    <tr style=\"text-align: right;\">\n",
       "      <th></th>\n",
       "      <th>level</th>\n",
       "      <th>marginal</th>\n",
       "      <th>lower</th>\n",
       "      <th>upper</th>\n",
       "      <th>scale</th>\n",
       "    </tr>\n",
       "  </thead>\n",
       "  <tbody>\n",
       "    <tr>\n",
       "      <th>0</th>\n",
       "      <td>16.0</td>\n",
       "      <td>0.0</td>\n",
       "      <td>0.0</td>\n",
       "      <td>inf</td>\n",
       "      <td>1.0</td>\n",
       "    </tr>\n",
       "  </tbody>\n",
       "</table>\n",
       "</div>"
      ],
      "text/plain": [
       "   level  marginal  lower  upper  scale\n",
       "0   16.0       0.0    0.0    inf    1.0"
      ]
     },
     "metadata": {},
     "output_type": "display_data"
    },
    {
     "data": {
      "text/html": [
       "<div>\n",
       "<style scoped>\n",
       "    .dataframe tbody tr th:only-of-type {\n",
       "        vertical-align: middle;\n",
       "    }\n",
       "\n",
       "    .dataframe tbody tr th {\n",
       "        vertical-align: top;\n",
       "    }\n",
       "\n",
       "    .dataframe thead th {\n",
       "        text-align: right;\n",
       "    }\n",
       "</style>\n",
       "<table border=\"1\" class=\"dataframe\">\n",
       "  <thead>\n",
       "    <tr style=\"text-align: right;\">\n",
       "      <th></th>\n",
       "      <th>level</th>\n",
       "      <th>marginal</th>\n",
       "      <th>lower</th>\n",
       "      <th>upper</th>\n",
       "      <th>scale</th>\n",
       "    </tr>\n",
       "  </thead>\n",
       "  <tbody>\n",
       "    <tr>\n",
       "      <th>0</th>\n",
       "      <td>2.0</td>\n",
       "      <td>0.0</td>\n",
       "      <td>0.0</td>\n",
       "      <td>inf</td>\n",
       "      <td>1.0</td>\n",
       "    </tr>\n",
       "  </tbody>\n",
       "</table>\n",
       "</div>"
      ],
      "text/plain": [
       "   level  marginal  lower  upper  scale\n",
       "0    2.0       0.0    0.0    inf    1.0"
      ]
     },
     "metadata": {},
     "output_type": "display_data"
    },
    {
     "data": {
      "text/html": [
       "<div>\n",
       "<style scoped>\n",
       "    .dataframe tbody tr th:only-of-type {\n",
       "        vertical-align: middle;\n",
       "    }\n",
       "\n",
       "    .dataframe tbody tr th {\n",
       "        vertical-align: top;\n",
       "    }\n",
       "\n",
       "    .dataframe thead th {\n",
       "        text-align: right;\n",
       "    }\n",
       "</style>\n",
       "<table border=\"1\" class=\"dataframe\">\n",
       "  <thead>\n",
       "    <tr style=\"text-align: right;\">\n",
       "      <th></th>\n",
       "      <th>level</th>\n",
       "      <th>marginal</th>\n",
       "      <th>lower</th>\n",
       "      <th>upper</th>\n",
       "      <th>scale</th>\n",
       "    </tr>\n",
       "  </thead>\n",
       "  <tbody>\n",
       "    <tr>\n",
       "      <th>0</th>\n",
       "      <td>8.2</td>\n",
       "      <td>0.0</td>\n",
       "      <td>-inf</td>\n",
       "      <td>inf</td>\n",
       "      <td>1.0</td>\n",
       "    </tr>\n",
       "  </tbody>\n",
       "</table>\n",
       "</div>"
      ],
      "text/plain": [
       "   level  marginal  lower  upper  scale\n",
       "0    8.2       0.0   -inf    inf    1.0"
      ]
     },
     "metadata": {},
     "output_type": "display_data"
    }
   ],
   "source": [
    "# This is the proper approach\n",
    "display(x.records, y.records, z.records)"
   ]
  }
 ],
 "metadata": {
  "kernelspec": {
   "display_name": "gamspy_env",
   "language": "python",
   "name": "python3"
  },
  "language_info": {
   "codemirror_mode": {
    "name": "ipython",
    "version": 3
   },
   "file_extension": ".py",
   "mimetype": "text/x-python",
   "name": "python",
   "nbconvert_exporter": "python",
   "pygments_lexer": "ipython3",
   "version": "3.10.18"
  }
 },
 "nbformat": 4,
 "nbformat_minor": 5
}
