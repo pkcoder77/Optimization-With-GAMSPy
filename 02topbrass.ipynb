{
 "cells": [
  {
   "cell_type": "markdown",
   "id": "5076cea5",
   "metadata": {},
   "source": [
    "# TopBrass Profit Optimization with GAMSpy\n",
    "\n",
    "This notebook solves a simple linear programming problem using `GAMSpy`. The goal is to find the optimal amount of football soccer trophies to produce to maximize profits.\n",
    "\n",
    "## Problem\n",
    "* **Football Trophies** (var `f`) are larger in size so they require 4 sq. feet of wood on their base and yield a profit of $12\n",
    "* **Soccer Trophies** (var `s`) are smaller so they need 2 sq. feet of wood on the base and yield a smaller profit of $9.\n",
    "\n",
    "## Constraints\n",
    "1. There are only 1000 brass footballs\n",
    "2. There are only 1500 soccer balls\n",
    "3. There are 1750 total plaques available\n",
    "4. There's only 4800 sq. feet of wood available\n",
    "\n",
    "**Objective:** Find the production of football trophies and soccer trophies that will yield the most profit for TopBrass"
   ]
  },
  {
   "cell_type": "code",
   "execution_count": 2,
   "id": "ab422538",
   "metadata": {},
   "outputs": [],
   "source": [
    "import gamspy as gp"
   ]
  },
  {
   "cell_type": "markdown",
   "id": "68f24e9e",
   "metadata": {},
   "source": [
    "## Step 1. Set up the Model"
   ]
  },
  {
   "cell_type": "code",
   "execution_count": 9,
   "id": "a47b744d",
   "metadata": {},
   "outputs": [],
   "source": [
    "m = gp.Container()\n",
    "\n",
    "# Variables are positive because you can't produce a negative amount of trophies\n",
    "f = gp.Variable(m, 'f', 'positive')\n",
    "s = gp.Variable(m, 's', 'positive')\n",
    "# adding .up to replace the upper limit equations for the variables\n",
    "f.up = 1000\n",
    "s.up = 1500\n",
    "\n",
    "# profit will be p\n",
    "p = gp.Variable(m, 'p', 'free')"
   ]
  },
  {
   "cell_type": "markdown",
   "id": "ece510bf",
   "metadata": {},
   "source": [
    "### Defining the Equations (constraints and objective)\n",
    "\n",
    "Now it's time to translate the constraints and profit equations. There are a total of 4 constraints and 1 objective for this problem. "
   ]
  },
  {
   "cell_type": "code",
   "execution_count": 10,
   "id": "7ec5e6c3",
   "metadata": {},
   "outputs": [],
   "source": [
    "# Constraint 1: Only have 1750 plaques for all of the trophies\n",
    "c1 = gp.Equation(m, 'constraint3')\n",
    "c1[:] = f + s <= 1750\n",
    "\n",
    "# Constraint 4: Only have 4800 sq. feet of wood to use\n",
    "c2 = gp.Equation(m, 'constraint4')\n",
    "c2[:] = 4*f + 2*s <= 4800\n",
    "\n",
    "# Objective: This is what defines the total profits\n",
    "obj = gp.Equation(m, 'defobj')\n",
    "obj[:] = p == 12*f + 9*s"
   ]
  },
  {
   "cell_type": "markdown",
   "id": "0e2d426d",
   "metadata": {},
   "source": [
    "## Step. 2: Solving the Model"
   ]
  },
  {
   "cell_type": "code",
   "execution_count": 11,
   "id": "3fdee1d7",
   "metadata": {},
   "outputs": [
    {
     "data": {
      "text/html": [
       "<div>\n",
       "<style scoped>\n",
       "    .dataframe tbody tr th:only-of-type {\n",
       "        vertical-align: middle;\n",
       "    }\n",
       "\n",
       "    .dataframe tbody tr th {\n",
       "        vertical-align: top;\n",
       "    }\n",
       "\n",
       "    .dataframe thead th {\n",
       "        text-align: right;\n",
       "    }\n",
       "</style>\n",
       "<table border=\"1\" class=\"dataframe\">\n",
       "  <thead>\n",
       "    <tr style=\"text-align: right;\">\n",
       "      <th></th>\n",
       "      <th>Solver Status</th>\n",
       "      <th>Model Status</th>\n",
       "      <th>Objective</th>\n",
       "      <th>Num of Equations</th>\n",
       "      <th>Num of Variables</th>\n",
       "      <th>Model Type</th>\n",
       "      <th>Solver</th>\n",
       "      <th>Solver Time</th>\n",
       "    </tr>\n",
       "  </thead>\n",
       "  <tbody>\n",
       "    <tr>\n",
       "      <th>0</th>\n",
       "      <td>Normal</td>\n",
       "      <td>OptimalGlobal</td>\n",
       "      <td>17700.0</td>\n",
       "      <td>3</td>\n",
       "      <td>3</td>\n",
       "      <td>LP</td>\n",
       "      <td>CPLEX</td>\n",
       "      <td>0.0</td>\n",
       "    </tr>\n",
       "  </tbody>\n",
       "</table>\n",
       "</div>"
      ],
      "text/plain": [
       "  Solver Status   Model Status  Objective  Num of Equations  Num of Variables  \\\n",
       "0        Normal  OptimalGlobal    17700.0                 3                 3   \n",
       "\n",
       "  Model Type Solver  Solver Time  \n",
       "0         LP  CPLEX          0.0  "
      ]
     },
     "execution_count": 11,
     "metadata": {},
     "output_type": "execute_result"
    }
   ],
   "source": [
    "topBrass = gp.Model(\n",
    "    m,\n",
    "    name= 'topBrass',\n",
    "    equations= [c1, c2, obj],\n",
    "    objective= p,\n",
    "    sense = 'max',\n",
    "    problem = 'lp',)\n",
    "\n",
    "topBrass.solve()"
   ]
  },
  {
   "cell_type": "markdown",
   "id": "34f9cf3c",
   "metadata": {},
   "source": [
    "### IMPORTANT\n",
    "\n",
    "Now that I'm using .up, the upper value is no longer inf. Also notice that the variables are presented like databases."
   ]
  },
  {
   "cell_type": "code",
   "execution_count": 12,
   "id": "6a75706a",
   "metadata": {},
   "outputs": [
    {
     "data": {
      "text/html": [
       "<div>\n",
       "<style scoped>\n",
       "    .dataframe tbody tr th:only-of-type {\n",
       "        vertical-align: middle;\n",
       "    }\n",
       "\n",
       "    .dataframe tbody tr th {\n",
       "        vertical-align: top;\n",
       "    }\n",
       "\n",
       "    .dataframe thead th {\n",
       "        text-align: right;\n",
       "    }\n",
       "</style>\n",
       "<table border=\"1\" class=\"dataframe\">\n",
       "  <thead>\n",
       "    <tr style=\"text-align: right;\">\n",
       "      <th></th>\n",
       "      <th>level</th>\n",
       "      <th>marginal</th>\n",
       "      <th>lower</th>\n",
       "      <th>upper</th>\n",
       "      <th>scale</th>\n",
       "    </tr>\n",
       "  </thead>\n",
       "  <tbody>\n",
       "    <tr>\n",
       "      <th>0</th>\n",
       "      <td>650.0</td>\n",
       "      <td>0.0</td>\n",
       "      <td>0.0</td>\n",
       "      <td>1000.0</td>\n",
       "      <td>1.0</td>\n",
       "    </tr>\n",
       "  </tbody>\n",
       "</table>\n",
       "</div>"
      ],
      "text/plain": [
       "   level  marginal  lower   upper  scale\n",
       "0  650.0       0.0    0.0  1000.0    1.0"
      ]
     },
     "metadata": {},
     "output_type": "display_data"
    },
    {
     "data": {
      "text/html": [
       "<div>\n",
       "<style scoped>\n",
       "    .dataframe tbody tr th:only-of-type {\n",
       "        vertical-align: middle;\n",
       "    }\n",
       "\n",
       "    .dataframe tbody tr th {\n",
       "        vertical-align: top;\n",
       "    }\n",
       "\n",
       "    .dataframe thead th {\n",
       "        text-align: right;\n",
       "    }\n",
       "</style>\n",
       "<table border=\"1\" class=\"dataframe\">\n",
       "  <thead>\n",
       "    <tr style=\"text-align: right;\">\n",
       "      <th></th>\n",
       "      <th>level</th>\n",
       "      <th>marginal</th>\n",
       "      <th>lower</th>\n",
       "      <th>upper</th>\n",
       "      <th>scale</th>\n",
       "    </tr>\n",
       "  </thead>\n",
       "  <tbody>\n",
       "    <tr>\n",
       "      <th>0</th>\n",
       "      <td>1100.0</td>\n",
       "      <td>0.0</td>\n",
       "      <td>0.0</td>\n",
       "      <td>1500.0</td>\n",
       "      <td>1.0</td>\n",
       "    </tr>\n",
       "  </tbody>\n",
       "</table>\n",
       "</div>"
      ],
      "text/plain": [
       "    level  marginal  lower   upper  scale\n",
       "0  1100.0       0.0    0.0  1500.0    1.0"
      ]
     },
     "metadata": {},
     "output_type": "display_data"
    },
    {
     "data": {
      "text/html": [
       "<div>\n",
       "<style scoped>\n",
       "    .dataframe tbody tr th:only-of-type {\n",
       "        vertical-align: middle;\n",
       "    }\n",
       "\n",
       "    .dataframe tbody tr th {\n",
       "        vertical-align: top;\n",
       "    }\n",
       "\n",
       "    .dataframe thead th {\n",
       "        text-align: right;\n",
       "    }\n",
       "</style>\n",
       "<table border=\"1\" class=\"dataframe\">\n",
       "  <thead>\n",
       "    <tr style=\"text-align: right;\">\n",
       "      <th></th>\n",
       "      <th>level</th>\n",
       "      <th>marginal</th>\n",
       "      <th>lower</th>\n",
       "      <th>upper</th>\n",
       "      <th>scale</th>\n",
       "    </tr>\n",
       "  </thead>\n",
       "  <tbody>\n",
       "    <tr>\n",
       "      <th>0</th>\n",
       "      <td>17700.0</td>\n",
       "      <td>0.0</td>\n",
       "      <td>-inf</td>\n",
       "      <td>inf</td>\n",
       "      <td>1.0</td>\n",
       "    </tr>\n",
       "  </tbody>\n",
       "</table>\n",
       "</div>"
      ],
      "text/plain": [
       "     level  marginal  lower  upper  scale\n",
       "0  17700.0       0.0   -inf    inf    1.0"
      ]
     },
     "metadata": {},
     "output_type": "display_data"
    }
   ],
   "source": [
    "display(f.records, s.records, p.records)"
   ]
  },
  {
   "cell_type": "code",
   "execution_count": null,
   "id": "fd15adbb",
   "metadata": {},
   "outputs": [
    {
     "data": {
      "text/plain": [
       "np.float64(17700.0)"
      ]
     },
     "execution_count": 8,
     "metadata": {},
     "output_type": "execute_result"
    }
   ],
   "source": [
    "# another way to check the the values in the var\n",
    "p.toValue()"
   ]
  }
 ],
 "metadata": {
  "kernelspec": {
   "display_name": "gamspy_env",
   "language": "python",
   "name": "python3"
  },
  "language_info": {
   "codemirror_mode": {
    "name": "ipython",
    "version": 3
   },
   "file_extension": ".py",
   "mimetype": "text/x-python",
   "name": "python",
   "nbconvert_exporter": "python",
   "pygments_lexer": "ipython3",
   "version": "3.10.18"
  }
 },
 "nbformat": 4,
 "nbformat_minor": 5
}
