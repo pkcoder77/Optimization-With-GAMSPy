{
 "cells": [
  {
   "cell_type": "markdown",
   "id": "5076cea5",
   "metadata": {},
   "source": [
    "# TopBrass Profit Optimization with GAMSpy\n",
    "\n",
    "This notebook solves a simple linear programming problem using `GAMSpy`. The goal is to find the optimal amount of football and soccer trophies to produce to maximize profits.\n",
    "\n",
    "## Problem\n",
    "* **Football Trophies** (var `f`) are larger in size so they require 4 sq. feet of wood on their base and yield a profit of $12\n",
    "* **Soccer Trophies** (var `s`) are smaller so they need 2 sq. feet of wood on the base and yield a smaller profit of $9.\n",
    "\n",
    "## Constraints\n",
    "1.  **Football Inventory:** Maximum of 1,000 units.\n",
    "2.  **Soccer Inventory:** Maximum of 1,500 units.\n",
    "3.  **Plaques:** 1,750 total available (one per trophy).\n",
    "4.  **Wood:** 4,800 sq. feet total available.\n",
    "\n",
    "**Objective:** Find the production of football trophies and soccer trophies that will yield the most profit for TopBrass"
   ]
  },
  {
   "cell_type": "markdown",
   "id": "14470eab",
   "metadata": {},
   "source": [
    "# Abstract Model Formulation\n",
    "\n",
    "To make the model scalable and applicable to more complex problems (e.g., thousands of products and resources), we can define it in abstract mathematical terms.\n",
    "\n",
    "----------\n",
    "\n",
    "| Symbol | Description | Example |\n",
    "| :--- | :--- | :--- |\n",
    "| **Sets** | | |\n",
    "| $I$ | The set of all products (items). | `{'football', 'soccer'}` |\n",
    "| $R$ | The set of all resources. | `{'plaques', 'wood'}` |\n",
    "| **Parameters** | | |\n",
    "| $c_i$ | Profit per unit of product $i \\in I$. | $c_{football} = 12$ |\n",
    "| $u_i$ | Upper production limit (inventory) for product $i \\in I$. | $u_{football} = 1000$ |\n",
    "| $b_r$ | Available amount of a given resource $r \\in R$. | $b_{wood} = 4800$ |\n",
    "| $a_{ri}$ | Amount of resource $r$ required to produce one unit of product $i$. | $a_{wood, football} = 4$ |\n",
    "| **Variable** | | |\n",
    "| $x_i$ | **Decision Variable:** The number of units of product $i \\in I$ to produce. | This is what we want to find. |\n",
    "\n",
    "----------"
   ]
  },
  {
   "cell_type": "markdown",
   "id": "d1136f3f",
   "metadata": {},
   "source": [
    "## Mathematical Model\n",
    "\n",
    "The abstract problem can be formulated with the following equations:\n",
    "\n",
    "**Objective Function:**\n",
    "The goal is to maximize the total profit.\n",
    "$$ \\max \\sum_{i \\in I}{c_ix_i}$$\n",
    "\n",
    "**Constraints:**\n",
    "1.  **Resource Limits:** For each resource, the total amount used cannot exceed the available amount.\n",
    "    $$\\sum_{i \\in I}{a_{ri} x_i} \\leq b_r, \\forall_r \\in R$$\n",
    "2.  **Production Limits:** The number of units produced cannot exceed the inventory limits.\n",
    "    $$ x_i \\leq u_i, \\forall_i \\in I$$\n",
    "3.  **Non-Negativity:** It is not possible to produce a negative number of trophies.\n",
    "    $$ x_i \\geq 0, \\forall_i \\in I$$"
   ]
  },
  {
   "cell_type": "code",
   "execution_count": 39,
   "id": "ab422538",
   "metadata": {},
   "outputs": [],
   "source": [
    "# Imports\n",
    "import gamspy as gp\n",
    "import numpy as np"
   ]
  },
  {
   "cell_type": "markdown",
   "id": "68f24e9e",
   "metadata": {},
   "source": [
    "## Step 1. Set up the Model"
   ]
  },
  {
   "cell_type": "code",
   "execution_count": null,
   "id": "a47b744d",
   "metadata": {},
   "outputs": [],
   "source": [
    "# GAMSpy containers act as central repositories for model components\n",
    "m = gp.Container()\n",
    "\n",
    "# Use sets to represent products and resources \n",
    "i = gp.Set(m, 'i', records = {'football', 'soccer'})\n",
    "r = gp.Set(m, 'r', records = {'plaques', 'wood'})\n",
    "\n",
    "# use parameters for constants\n",
    "u = gp.Parameter(m, 'u', domain = [i], records=np.array([1000, 1500]), description='Inventory limits')\n",
    "b = gp.Parameter(m, 'b', domain=[r], records=np.array([1750, 4800]), description='resource limitations')\n",
    "a = gp.Parameter(m, 'a', domain=[r,i], records=np.array([[1, 1], [4, 2]]), description='per-unit recourse calculations')\n",
    "c = gp.Parameter(m, 'c', domain=[i], records=np.array([12, 9]), description='profits')"
   ]
  },
  {
   "cell_type": "code",
   "execution_count": null,
   "id": "b0bfe125",
   "metadata": {},
   "outputs": [],
   "source": [
    "# Define the decision variable\n",
    "x = gp.Variable(m, 'x', 'positive', domain = [i], description = 'trophies')\n",
    "x.up[i] = u[i]"
   ]
  },
  {
   "cell_type": "code",
   "execution_count": null,
   "id": "c28e4976",
   "metadata": {},
   "outputs": [],
   "source": [
    "# write model's data to a GAMS Data eXchange (GDX) file for debugging or export\n",
    "# m.write('tbdata.gdx')"
   ]
  },
  {
   "cell_type": "code",
   "execution_count": null,
   "id": "117b4053",
   "metadata": {},
   "outputs": [],
   "source": [
    "# Define the Constraints as Equations\n",
    "res_lim = gp.Equation(m, 'res_lim', domain=[r], description='resource limit')\n",
    "# Define the logic for the constraint: For each resource 'r', the sum of units produced (x[i]) multiplied by their resource consumption (a[r,i])\n",
    "# must be less than or equal to the available amount of that resource (b[r])\n",
    "res_lim[r] = gp.Sum(i, a[r,i]*x[i]) <= b[r]"
   ]
  },
  {
   "cell_type": "markdown",
   "id": "0e2d426d",
   "metadata": {},
   "source": [
    "## Step. 2: Solving the Model"
   ]
  },
  {
   "cell_type": "code",
   "execution_count": 44,
   "id": "3fdee1d7",
   "metadata": {},
   "outputs": [],
   "source": [
    "topBrass = gp.Model(\n",
    "    m,\n",
    "    name= 'topBrass',\n",
    "    equations= m.getEquations(),\n",
    "    objective= gp.Sum(i,c[i]*x[i]),\n",
    "    sense = 'max',\n",
    "    problem = 'lp',)\n"
   ]
  },
  {
   "cell_type": "code",
   "execution_count": 45,
   "id": "39647062",
   "metadata": {},
   "outputs": [
    {
     "data": {
      "text/html": [
       "<div>\n",
       "<style scoped>\n",
       "    .dataframe tbody tr th:only-of-type {\n",
       "        vertical-align: middle;\n",
       "    }\n",
       "\n",
       "    .dataframe tbody tr th {\n",
       "        vertical-align: top;\n",
       "    }\n",
       "\n",
       "    .dataframe thead th {\n",
       "        text-align: right;\n",
       "    }\n",
       "</style>\n",
       "<table border=\"1\" class=\"dataframe\">\n",
       "  <thead>\n",
       "    <tr style=\"text-align: right;\">\n",
       "      <th></th>\n",
       "      <th>Solver Status</th>\n",
       "      <th>Model Status</th>\n",
       "      <th>Objective</th>\n",
       "      <th>Num of Equations</th>\n",
       "      <th>Num of Variables</th>\n",
       "      <th>Model Type</th>\n",
       "      <th>Solver</th>\n",
       "      <th>Solver Time</th>\n",
       "    </tr>\n",
       "  </thead>\n",
       "  <tbody>\n",
       "    <tr>\n",
       "      <th>0</th>\n",
       "      <td>Normal</td>\n",
       "      <td>OptimalGlobal</td>\n",
       "      <td>17700.0</td>\n",
       "      <td>3</td>\n",
       "      <td>3</td>\n",
       "      <td>LP</td>\n",
       "      <td>CPLEX</td>\n",
       "      <td>0.0</td>\n",
       "    </tr>\n",
       "  </tbody>\n",
       "</table>\n",
       "</div>"
      ],
      "text/plain": [
       "  Solver Status   Model Status  Objective  Num of Equations  Num of Variables  \\\n",
       "0        Normal  OptimalGlobal    17700.0                 3                 3   \n",
       "\n",
       "  Model Type Solver  Solver Time  \n",
       "0         LP  CPLEX          0.0  "
      ]
     },
     "execution_count": 45,
     "metadata": {},
     "output_type": "execute_result"
    }
   ],
   "source": [
    "topBrass.solve()"
   ]
  },
  {
   "cell_type": "markdown",
   "id": "34f9cf3c",
   "metadata": {},
   "source": [
    "### IMPORTANT\n",
    "\n",
    "Now that I'm using .up, the upper value is no longer inf. Also notice that the variables are presented like databases."
   ]
  },
  {
   "cell_type": "code",
   "execution_count": 46,
   "id": "6a75706a",
   "metadata": {},
   "outputs": [
    {
     "data": {
      "text/html": [
       "<div>\n",
       "<style scoped>\n",
       "    .dataframe tbody tr th:only-of-type {\n",
       "        vertical-align: middle;\n",
       "    }\n",
       "\n",
       "    .dataframe tbody tr th {\n",
       "        vertical-align: top;\n",
       "    }\n",
       "\n",
       "    .dataframe thead th {\n",
       "        text-align: right;\n",
       "    }\n",
       "</style>\n",
       "<table border=\"1\" class=\"dataframe\">\n",
       "  <thead>\n",
       "    <tr style=\"text-align: right;\">\n",
       "      <th></th>\n",
       "      <th>i</th>\n",
       "      <th>level</th>\n",
       "      <th>marginal</th>\n",
       "      <th>lower</th>\n",
       "      <th>upper</th>\n",
       "      <th>scale</th>\n",
       "    </tr>\n",
       "  </thead>\n",
       "  <tbody>\n",
       "    <tr>\n",
       "      <th>0</th>\n",
       "      <td>soccer</td>\n",
       "      <td>650.0</td>\n",
       "      <td>0.0</td>\n",
       "      <td>0.0</td>\n",
       "      <td>1000.0</td>\n",
       "      <td>1.0</td>\n",
       "    </tr>\n",
       "    <tr>\n",
       "      <th>1</th>\n",
       "      <td>football</td>\n",
       "      <td>1100.0</td>\n",
       "      <td>0.0</td>\n",
       "      <td>0.0</td>\n",
       "      <td>1500.0</td>\n",
       "      <td>1.0</td>\n",
       "    </tr>\n",
       "  </tbody>\n",
       "</table>\n",
       "</div>"
      ],
      "text/plain": [
       "          i   level  marginal  lower   upper  scale\n",
       "0    soccer   650.0       0.0    0.0  1000.0    1.0\n",
       "1  football  1100.0       0.0    0.0  1500.0    1.0"
      ]
     },
     "metadata": {},
     "output_type": "display_data"
    }
   ],
   "source": [
    "display(x.records)"
   ]
  }
 ],
 "metadata": {
  "kernelspec": {
   "display_name": "gamspy_env",
   "language": "python",
   "name": "python3"
  },
  "language_info": {
   "codemirror_mode": {
    "name": "ipython",
    "version": 3
   },
   "file_extension": ".py",
   "mimetype": "text/x-python",
   "name": "python",
   "nbconvert_exporter": "python",
   "pygments_lexer": "ipython3",
   "version": "3.10.18"
  }
 },
 "nbformat": 4,
 "nbformat_minor": 5
}
